{
 "cells": [
  {
   "cell_type": "markdown",
   "metadata": {},
   "source": [
    "# Projeto 1 - Ciência dos Dados"
   ]
  },
  {
   "cell_type": "markdown",
   "metadata": {},
   "source": [
    "Nome: _____\n",
    "\n",
    "Nome: _____\n",
    "\n",
    "Nome: _____"
   ]
  },
  {
   "cell_type": "markdown",
   "metadata": {},
   "source": [
    "___\n",
    "### Atenção: <br> $\\quad$* Serão permitidos grupos de até 3 pessoas, mas com uma rubrica mais exigente. <br> $\\quad$* Veja RUBRICA na última página do arquivo PDF que traz o enunciado do Proejto 1."
   ]
  },
  {
   "cell_type": "markdown",
   "metadata": {},
   "source": [
    "___\n",
    "Carregando algumas bibliotecas:"
   ]
  },
  {
   "cell_type": "code",
   "execution_count": 3,
   "metadata": {},
   "outputs": [],
   "source": [
    "%matplotlib inline\n",
    "import pandas as pd\n",
    "import matplotlib.pyplot as plt\n",
    "import numpy as np\n",
    "import os\n",
    "\n",
    "import re \n",
    "\n",
    "\n",
    "def cleanup(text):\n",
    "    \"\"\"\n",
    "        Função de limpeza muito simples que troca alguns sinais básicos por espaços\n",
    "    \"\"\"\n",
    "    #import string\n",
    "    punctuation = '[´\"!-.:?;$''<>]' # Note que os sinais [] são delimitadores de um conjunto.\n",
    "    pattern = re.compile(punctuation)\n",
    "    text_subbed = re.sub(pattern, ' ', text)\n",
    "    return text_subbed\n"
   ]
  },
  {
   "cell_type": "code",
   "execution_count": 4,
   "metadata": {
    "scrolled": false
   },
   "outputs": [
    {
     "name": "stdout",
     "output_type": "stream",
     "text": [
      "Esperamos trabalhar no diretório\n",
      "c:\\Users\\euleo\\Documents\\GitHub\\Projeto-1---CDados\n"
     ]
    }
   ],
   "source": [
    "print('Esperamos trabalhar no diretório')\n",
    "print(os.getcwd())"
   ]
  },
  {
   "cell_type": "markdown",
   "metadata": {},
   "source": [
    "___\n",
    "\n",
    "### Carregando a base de dados com as mensagens dos seus arquivos. <br> Tire o `#` do início da linha de código condizente ao caso escolhido para o projeto 1."
   ]
  },
  {
   "cell_type": "code",
   "execution_count": 10,
   "metadata": {},
   "outputs": [],
   "source": [
    "nome = \"danielr\""
   ]
  },
  {
   "cell_type": "code",
   "execution_count": 11,
   "metadata": {},
   "outputs": [],
   "source": [
    "# SE SEU PROJETO USA OS DADOS ATÉ TRIO\n",
    "#train = pd.read_csv('dados_treino_ate_TRIO_'+nome+'.csv')\n",
    "#test = pd.read_csv('dados_teste_ate_TRIO_'+nome+'.csv')"
   ]
  },
  {
   "cell_type": "code",
   "execution_count": 5,
   "metadata": {},
   "outputs": [],
   "source": [
    "# SE SEU PROJETO USA OS DADOS SÓ DUPLA\"\n",
    "train = pd.read_csv('dados_treino_so_DUPLA_danielr.csv')\n",
    "test = pd.read_csv('dados_teste_so_DUPLA_danielr.csv')"
   ]
  },
  {
   "cell_type": "code",
   "execution_count": 6,
   "metadata": {},
   "outputs": [
    {
     "data": {
      "text/html": [
       "<div>\n",
       "<style scoped>\n",
       "    .dataframe tbody tr th:only-of-type {\n",
       "        vertical-align: middle;\n",
       "    }\n",
       "\n",
       "    .dataframe tbody tr th {\n",
       "        vertical-align: top;\n",
       "    }\n",
       "\n",
       "    .dataframe thead th {\n",
       "        text-align: right;\n",
       "    }\n",
       "</style>\n",
       "<table border=\"1\" class=\"dataframe\">\n",
       "  <thead>\n",
       "    <tr style=\"text-align: right;\">\n",
       "      <th></th>\n",
       "      <th>Text</th>\n",
       "      <th>target</th>\n",
       "    </tr>\n",
       "  </thead>\n",
       "  <tbody>\n",
       "    <tr>\n",
       "      <th>0</th>\n",
       "      <td>Fi-shock works great.  This is number three fo...</td>\n",
       "      <td>1.0</td>\n",
       "    </tr>\n",
       "    <tr>\n",
       "      <th>1</th>\n",
       "      <td>Great stuff delivery is very fast . I mix it w...</td>\n",
       "      <td>1.0</td>\n",
       "    </tr>\n",
       "    <tr>\n",
       "      <th>2</th>\n",
       "      <td>I purchased these for my mom and she loves the...</td>\n",
       "      <td>1.0</td>\n",
       "    </tr>\n",
       "    <tr>\n",
       "      <th>3</th>\n",
       "      <td>I love Eight O'clock coffee but when shopping ...</td>\n",
       "      <td>0.0</td>\n",
       "    </tr>\n",
       "    <tr>\n",
       "      <th>4</th>\n",
       "      <td>These are really good.  You do need to add jus...</td>\n",
       "      <td>1.0</td>\n",
       "    </tr>\n",
       "  </tbody>\n",
       "</table>\n",
       "</div>"
      ],
      "text/plain": [
       "                                                Text  target\n",
       "0  Fi-shock works great.  This is number three fo...     1.0\n",
       "1  Great stuff delivery is very fast . I mix it w...     1.0\n",
       "2  I purchased these for my mom and she loves the...     1.0\n",
       "3  I love Eight O'clock coffee but when shopping ...     0.0\n",
       "4  These are really good.  You do need to add jus...     1.0"
      ]
     },
     "execution_count": 6,
     "metadata": {},
     "output_type": "execute_result"
    }
   ],
   "source": [
    "train.head()"
   ]
  },
  {
   "cell_type": "code",
   "execution_count": 7,
   "metadata": {},
   "outputs": [
    {
     "data": {
      "text/html": [
       "<div>\n",
       "<style scoped>\n",
       "    .dataframe tbody tr th:only-of-type {\n",
       "        vertical-align: middle;\n",
       "    }\n",
       "\n",
       "    .dataframe tbody tr th {\n",
       "        vertical-align: top;\n",
       "    }\n",
       "\n",
       "    .dataframe thead th {\n",
       "        text-align: right;\n",
       "    }\n",
       "</style>\n",
       "<table border=\"1\" class=\"dataframe\">\n",
       "  <thead>\n",
       "    <tr style=\"text-align: right;\">\n",
       "      <th></th>\n",
       "      <th>Text</th>\n",
       "      <th>target</th>\n",
       "    </tr>\n",
       "  </thead>\n",
       "  <tbody>\n",
       "    <tr>\n",
       "      <th>0</th>\n",
       "      <td>I ordered a case of 10 for $[...].00. I love t...</td>\n",
       "      <td>1.0</td>\n",
       "    </tr>\n",
       "    <tr>\n",
       "      <th>1</th>\n",
       "      <td>I bought these based on all the great reviews ...</td>\n",
       "      <td>0.0</td>\n",
       "    </tr>\n",
       "    <tr>\n",
       "      <th>2</th>\n",
       "      <td>This is a fantastic product. I promote this pr...</td>\n",
       "      <td>0.0</td>\n",
       "    </tr>\n",
       "    <tr>\n",
       "      <th>3</th>\n",
       "      <td>A nicely spiced light roast coffee with the ar...</td>\n",
       "      <td>1.0</td>\n",
       "    </tr>\n",
       "    <tr>\n",
       "      <th>4</th>\n",
       "      <td>This really is a DELICIOUS product and if you ...</td>\n",
       "      <td>0.0</td>\n",
       "    </tr>\n",
       "  </tbody>\n",
       "</table>\n",
       "</div>"
      ],
      "text/plain": [
       "                                                Text  target\n",
       "0  I ordered a case of 10 for $[...].00. I love t...     1.0\n",
       "1  I bought these based on all the great reviews ...     0.0\n",
       "2  This is a fantastic product. I promote this pr...     0.0\n",
       "3  A nicely spiced light roast coffee with the ar...     1.0\n",
       "4  This really is a DELICIOUS product and if you ...     0.0"
      ]
     },
     "execution_count": 7,
     "metadata": {},
     "output_type": "execute_result"
    }
   ],
   "source": [
    "test.head()"
   ]
  },
  {
   "cell_type": "markdown",
   "metadata": {},
   "source": [
    "___\n",
    "# Classificador Automático (Boot)\n"
   ]
  },
  {
   "cell_type": "markdown",
   "metadata": {},
   "source": [
    "Faça aqui uma descrição do seu assunto e o contexto referente aos rótulos cujas mensagens (ou reviews) deverão ser classificadas.\n",
    "\n",
    "ESCREVA AQUI..."
   ]
  },
  {
   "cell_type": "markdown",
   "metadata": {},
   "source": [
    "criar uma base de dados filtrando todos os comentarios com target 1 e outra com target 0\n"
   ]
  },
  {
   "cell_type": "markdown",
   "metadata": {},
   "source": [
    "___\n",
    "## Montando SEU Classificador Naive-Bayes\n",
    "\n",
    "Considerando apenas as mensagens da planilha Treinamento, ensine  seu classificador."
   ]
  },
  {
   "cell_type": "code",
   "execution_count": null,
   "metadata": {},
   "outputs": [],
   "source": [
    "# filtrar por linhas que o valor da coluna target seja igual a 1\n",
    "um = train.loc[train.target == 1,:]\n",
    "zero = train.loc[train.target == 0,:]\n",
    "\n",
    "um =  um.Text\n",
    "zero = zero.Text\n",
    "\n",
    "umstr = ' '.join(um.astype(str).tolist())\n",
    "zerostr = ' '.join(zero.astype(str).tolist())\n",
    "\n",
    "umlimpo = cleanup(umstr.lower())\n",
    "zerolimpo = cleanup(zerostr.lower())\n",
    "\n",
    "umlista = umlimpo.split()\n",
    "zerolista = zerolimpo.split()\n",
    "trainlista = umlista + zerolista\n",
    "\n",
    "umseries = pd.Series(umlista)\n",
    "zeroseries = pd.Series(zerolista)\n",
    "trainseries = pd.Series(trainlista)\n",
    "\n",
    "# contagens absolutas (necessárias para smoothing de Laplace)\n",
    "umcount    = umseries.value_counts()\n",
    "zerocount  = zeroseries.value_counts()\n",
    "traincount = trainseries.value_counts()\n",
    "\n",
    "# parâmetros p/ Laplace\n",
    "alpha = 1.0\n",
    "V = traincount.index.nunique()             # tamanho do vocabulário\n",
    "\n",
    "# totais de tokens por \"classe\" e no geral\n",
    "total_um_tokens    = int(umcount.sum())\n",
    "total_zero_tokens  = int(zerocount.sum())\n",
    "total_train_tokens = int(traincount.sum())\n",
    "\n",
    "# penalidades (probabilidade de OOV) suavizadas por Laplace\n",
    "penalidade_um    = alpha / (total_um_tokens    + alpha * V)\n",
    "penalidade_zero  = alpha / (total_zero_tokens  + alpha * V)\n",
    "penalidade_train = alpha / (total_train_tokens + alpha * V)\n"
   ]
  },
  {
   "cell_type": "code",
   "execution_count": null,
   "metadata": {},
   "outputs": [],
   "source": [
    "lenum = len(um)\n",
    "lenzero = len(zero)\n",
    "\n",
    "probum = lenum/(lenum + lenzero)\n",
    "probzero = lenzero/(lenum + lenzero)\n",
    "\n",
    "penalidade = 0.000005\n",
    "\n",
    "def classcome(come):\n",
    "    come = come.lower()\n",
    "    # comestr = ''.join(come.astype(str).tolist())\n",
    "    comelimpo = cleanup(come)\n",
    "    comelista = comelimpo.split()\n",
    "\n",
    "    probcomedadoum = 1\n",
    "    probcomedadozero = 1\n",
    "    \n",
    "    probcome = 1\n",
    "\n",
    "    for palavra in comelista:\n",
    "        # P(palavra | classe=1) com Laplace\n",
    "        c_um = umcount.get(palavra, 0)\n",
    "        p_um = (c_um + alpha) / (total_um_tokens + alpha * V)\n",
    "        probcomedadoum *= p_um\n",
    "\n",
    "        # P(palavra | classe=0) com Laplace\n",
    "        c_zero = zerocount.get(palavra, 0)\n",
    "        p_zero = (c_zero + alpha) / (total_zero_tokens + alpha * V)\n",
    "        probcomedadozero *= p_zero\n",
    "\n",
    "        # P(palavra) no corpus todo (para manter sua razão com \"probcome\")\n",
    "        c_train = traincount.get(palavra, 0)\n",
    "        p_train = (c_train + alpha) / (total_train_tokens + alpha * V)\n",
    "        probcome *= p_train\n",
    "\n",
    "        # mantém seus fatores (não são necessários em log, mas você pediu sem mudar a lógica)\n",
    "        probcomedadoum   = probcomedadoum * 1000\n",
    "        probcomedadozero = probcomedadozero * 1000\n",
    "        probcome         = probcome * 1000\n",
    "\n",
    "        # print(probcomedadoum)\n",
    "        # print(probcomedadozero)\n",
    "        # print(probcome)\n",
    "    \n",
    "    # print(probcomedadoum)\n",
    "    # print(probcomedadozero)\n",
    "    # print(probcome)\n",
    "        \n",
    "    probumdadocome = probcomedadoum * probum / probcome\n",
    "    probzerodadocome= probcomedadozero * probzero / probcome\n",
    "\n",
    "    # print(probumdadocome)\n",
    "    # print(probzerodadocome)\n",
    "        \n",
    "    if probumdadocome > probzerodadocome:\n",
    "        return 1\n",
    "    else:\n",
    "        return 0"
   ]
  },
  {
   "cell_type": "markdown",
   "metadata": {},
   "source": [
    "___\n",
    "## Verificando a performance do Classificador\n",
    "\n",
    "Agora você deve testar o seu classificador com a base de Testes."
   ]
  },
  {
   "cell_type": "code",
   "execution_count": null,
   "metadata": {},
   "outputs": [
    {
     "name": "stdout",
     "output_type": "stream",
     "text": [
      "Acurácia: 93.75% (1575/1680)\n",
      "Falsos positivos: 4.82% (81/1680)\n",
      "Falsos negativos: 1.43% (24/1680)\n"
     ]
    }
   ],
   "source": [
    "avaliado = train\n",
    "\n",
    "TP = TN = FP = FN = 0\n",
    "total = len(avaliado)\n",
    "\n",
    "for i in range(total):\n",
    "    pred = classcome(avaliado.iloc[i, 0])     # coluna Text\n",
    "    real = int(avaliado.iloc[i, 1])           # coluna target (0/1)\n",
    "\n",
    "    if pred == 1 and real == 1:\n",
    "        TP += 1\n",
    "    elif pred == 0 and real == 0:\n",
    "        TN += 1\n",
    "    elif pred == 1 and real == 0:\n",
    "        FP += 1\n",
    "    elif pred == 0 and real == 1:\n",
    "        FN += 1\n",
    "\n",
    "acertos = TP + TN\n",
    "acuracia = acertos / total if total else 0.0\n",
    "\n",
    "# porcentagens sobre o total\n",
    "pct_TP = (TP / total) * 100 if total else 0.0\n",
    "pct_TN = (TN / total) * 100 if total else 0.0\n",
    "pct_FP = (FP / total) * 100 if total else 0.0\n",
    "pct_FN = (FN / total) * 100 if total else 0.0\n",
    "\n",
    "print(f\"Acuracia: {acuracia:.2%} ({acertos}/{total})\")\n",
    "print(f\"Verdadeiro Positivo (TP): {pct_TP:.2f}%  ({TP})\")\n",
    "print(f\"Verdadeiro Negativo (TN): {pct_TN:.2f}%  ({TN})\")\n",
    "print(f\"Falso  Positivo  (FP): {pct_FP:.2f}%  ({FP})\")\n",
    "print(f\"Falso  Negativo  (FN): {pct_FN:.2f}%  ({FN})\")"
   ]
  },
  {
   "cell_type": "code",
   "execution_count": null,
   "metadata": {},
   "outputs": [
    {
     "name": "stderr",
     "output_type": "stream",
     "text": [
      "C:\\Users\\euleo\\AppData\\Local\\Temp\\ipykernel_28300\\4038290373.py:47: RuntimeWarning: invalid value encountered in scalar divide\n",
      "  probumdadocome = probcomedadoum * probum / probcome\n",
      "C:\\Users\\euleo\\AppData\\Local\\Temp\\ipykernel_28300\\4038290373.py:48: RuntimeWarning: invalid value encountered in scalar divide\n",
      "  probzerodadocome= probcomedadozero * probzero / probcome\n"
     ]
    },
    {
     "name": "stdout",
     "output_type": "stream",
     "text": [
      "Acurácia: 72.92% (525/720)\n",
      "Falsos positivos: 15.69% (113/720)\n",
      "Falsos negativos: 11.39% (82/720)\n"
     ]
    }
   ],
   "source": [
    "avaliado = test\n",
    "\n",
    "TP = TN = FP = FN = 0\n",
    "total = len(avaliado)\n",
    "\n",
    "for i in range(total):\n",
    "    pred = classcome(avaliado.iloc[i, 0])     # coluna Text\n",
    "    real = int(avaliado.iloc[i, 1])           # coluna target (0/1)\n",
    "\n",
    "    if pred == 1 and real == 1:\n",
    "        TP += 1\n",
    "    elif pred == 0 and real == 0:\n",
    "        TN += 1\n",
    "    elif pred == 1 and real == 0:\n",
    "        FP += 1\n",
    "    elif pred == 0 and real == 1:\n",
    "        FN += 1\n",
    "\n",
    "acertos = TP + TN\n",
    "acuracia = acertos / total if total else 0.0\n",
    "\n",
    "# porcentagens sobre o total\n",
    "pct_TP = (TP / total) * 100 if total else 0.0\n",
    "pct_TN = (TN / total) * 100 if total else 0.0\n",
    "pct_FP = (FP / total) * 100 if total else 0.0\n",
    "pct_FN = (FN / total) * 100 if total else 0.0\n",
    "\n",
    "print(f\"Acuracia: {acuracia:.2%} ({acertos}/{total})\")\n",
    "print(f\"Verdadeiro Positivo (TP): {pct_TP:.2f}%  ({TP})\")\n",
    "print(f\"Verdadeiro Negativo (TN): {pct_TN:.2f}%  ({TN})\")\n",
    "print(f\"Falso  Positivo  (FP): {pct_FP:.2f}%  ({FP})\")\n",
    "print(f\"Falso  Negativo  (FN): {pct_FN:.2f}%  ({FN})\")"
   ]
  },
  {
   "cell_type": "code",
   "execution_count": null,
   "metadata": {},
   "outputs": [],
   "source": []
  },
  {
   "cell_type": "markdown",
   "metadata": {},
   "source": [
    "___\n",
    "## Análise Qualitativa da Performance do Classificador"
   ]
  },
  {
   "cell_type": "code",
   "execution_count": null,
   "metadata": {},
   "outputs": [
    {
     "name": "stderr",
     "output_type": "stream",
     "text": [
      "C:\\Users\\euleo\\AppData\\Local\\Temp\\ipykernel_28300\\4038290373.py:47: RuntimeWarning: invalid value encountered in scalar divide\n",
      "  probumdadocome = probcomedadoum * probum / probcome\n",
      "C:\\Users\\euleo\\AppData\\Local\\Temp\\ipykernel_28300\\4038290373.py:48: RuntimeWarning: invalid value encountered in scalar divide\n",
      "  probzerodadocome= probcomedadozero * probzero / probcome\n"
     ]
    },
    {
     "name": "stdout",
     "output_type": "stream",
     "text": [
      "Acuracia: 72.92% (525/720)\n"
     ]
    }
   ],
   "source": [
    "# Analisando a acuracia obtida no treino de 93.75% e no teste de 72.92%, é possivel afirmar que embora ele não seja\n",
    "# absurdamente preciso, a sua precisão é bem alta para o tipo de analise que é buscado, pois os criterios não são totalmente\n",
    "# objetivos, com comentarios podendo variar dependendo do que o usuario pensa além de que existe a possibilidade de erros humanos\n",
    "# na hora de realizar uma avaliação \n"
   ]
  },
  {
   "cell_type": "code",
   "execution_count": null,
   "metadata": {},
   "outputs": [],
   "source": []
  },
  {
   "cell_type": "code",
   "execution_count": null,
   "metadata": {},
   "outputs": [],
   "source": []
  },
  {
   "cell_type": "markdown",
   "metadata": {},
   "source": [
    "___\n",
    "## Qualidade do Classificador a partir de novas separações das mensagens entre Treinamento e Teste\n",
    "\n",
    "Caso for fazer esse item do Projeto"
   ]
  },
  {
   "cell_type": "code",
   "execution_count": null,
   "metadata": {},
   "outputs": [],
   "source": []
  },
  {
   "cell_type": "code",
   "execution_count": null,
   "metadata": {},
   "outputs": [],
   "source": []
  },
  {
   "cell_type": "code",
   "execution_count": null,
   "metadata": {},
   "outputs": [],
   "source": []
  },
  {
   "cell_type": "markdown",
   "metadata": {},
   "source": [
    "___\n",
    "## Aperfeiçoamento:\n",
    "\n",
    "Leia atentamente a rubrica colocada no enunciado do Projeto 1 (última página). <br>\n",
    "Trabalhos que conseguirem pelo menos conceito B vão evoluir em conceito dependendo da quantidade de itens avançados:\n",
    "\n",
    "* IMPLEMENTOU outras limpezas e transformações que não afetem a qualidade da informação contida nas mensagens, mas tendem a melhorar na classificação das mensagens. Ex: stemming, lemmatization, stopwords.\n",
    "* CONSIDEROU arquivo com três categorias na classificação das variáveis (OBRIGATÓRIO PARA QUARTETOS, sem contar como item avançado)\n",
    "* CONSTRUIU o cálculo das probabilidades corretamente utilizando bigramas E apresentou referência sobre o método utilizado.\n",
    "* EXPLICOU porquê não pode usar novas mensagens classificadas pelo próprio classificador como amostra de treinamento\n",
    "* PROPÔS diferentes cenários para Naïve Bayes fora do contexto do projeto (pelo menos dois cenários diferentes, exceto aqueles já apresentados em sala pelos professores: por exemplo, filtro de spam)\n",
    "* REFLETE criticamente sobre os resultados obtidos, identificando limitações do modelo e sugerindo possíveis melhorias ou diferentes abordagens com indicações concretas de como implementar (indicar como fazer e indicar material de pesquisa).\n",
    "* DOCUMENTOU bem o código, com explicações claras para cada etapa do processo, incluindo o raciocínio por trás das decisões de modelagem e das transformações de dados.\n"
   ]
  },
  {
   "cell_type": "markdown",
   "metadata": {},
   "source": [
    "___\n",
    "## Referências"
   ]
  },
  {
   "cell_type": "markdown",
   "metadata": {},
   "source": [
    "[Naive Bayes and Text Classification](https://arxiv.org/pdf/1410.5329.pdf)  **Mais completo**\n",
    "\n",
    "[Natural Language Processing (Part 17)-Laplacian Smoothing](https://medium.com/@Coursesteach/natural-language-processing-part-17-laplacian-smoothing-7d4be71d0ded) **Mais simples**"
   ]
  },
  {
   "cell_type": "code",
   "execution_count": null,
   "metadata": {},
   "outputs": [],
   "source": []
  }
 ],
 "metadata": {
  "kernelspec": {
   "display_name": "base",
   "language": "python",
   "name": "python3"
  },
  "language_info": {
   "codemirror_mode": {
    "name": "ipython",
    "version": 3
   },
   "file_extension": ".py",
   "mimetype": "text/x-python",
   "name": "python",
   "nbconvert_exporter": "python",
   "pygments_lexer": "ipython3",
   "version": "3.12.7"
  }
 },
 "nbformat": 4,
 "nbformat_minor": 4
}
