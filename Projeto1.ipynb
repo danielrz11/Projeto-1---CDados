{
 "cells": [
  {
   "cell_type": "markdown",
   "metadata": {},
   "source": [
    "# Projeto 1 - Ciência dos Dados"
   ]
  },
  {
   "cell_type": "markdown",
   "metadata": {},
   "source": [
    "Nome: _____\n",
    "\n",
    "Nome: _____\n",
    "\n",
    "Nome: _____"
   ]
  },
  {
   "cell_type": "markdown",
   "metadata": {},
   "source": [
    "___\n",
    "### Atenção: <br> $\\quad$* Serão permitidos grupos de até 3 pessoas, mas com uma rubrica mais exigente. <br> $\\quad$* Veja RUBRICA na última página do arquivo PDF que traz o enunciado do Proejto 1."
   ]
  },
  {
   "cell_type": "markdown",
   "metadata": {},
   "source": [
    "___\n",
    "Carregando algumas bibliotecas:"
   ]
  },
  {
   "cell_type": "code",
   "execution_count": 3,
   "metadata": {},
   "outputs": [],
   "source": [
    "%matplotlib inline\n",
    "import pandas as pd\n",
    "import matplotlib.pyplot as plt\n",
    "import numpy as np\n",
    "import os\n",
    "\n",
    "import re \n",
    "\n",
    "\n",
    "def cleanup(text):\n",
    "    \"\"\"\n",
    "        Função de limpeza muito simples que troca alguns sinais básicos por espaços\n",
    "    \"\"\"\n",
    "    #import string\n",
    "    punctuation = '[´\"!-.:?;$''<>]' # Note que os sinais [] são delimitadores de um conjunto.\n",
    "    pattern = re.compile(punctuation)\n",
    "    text_subbed = re.sub(pattern, ' ', text)\n",
    "    return text_subbed\n"
   ]
  },
  {
   "cell_type": "code",
   "execution_count": 4,
   "metadata": {
    "scrolled": false
   },
   "outputs": [
    {
     "name": "stdout",
     "output_type": "stream",
     "text": [
      "Esperamos trabalhar no diretório\n",
      "c:\\Users\\euleo\\Documents\\GitHub\\Projeto-1---CDados\n"
     ]
    }
   ],
   "source": [
    "print('Esperamos trabalhar no diretório')\n",
    "print(os.getcwd())"
   ]
  },
  {
   "cell_type": "markdown",
   "metadata": {},
   "source": [
    "___\n",
    "\n",
    "### Carregando a base de dados com as mensagens dos seus arquivos. <br> Tire o `#` do início da linha de código condizente ao caso escolhido para o projeto 1."
   ]
  },
  {
   "cell_type": "code",
   "execution_count": 10,
   "metadata": {},
   "outputs": [],
   "source": [
    "nome = \"danielr\""
   ]
  },
  {
   "cell_type": "code",
   "execution_count": 11,
   "metadata": {},
   "outputs": [],
   "source": [
    "# SE SEU PROJETO USA OS DADOS ATÉ TRIO\n",
    "#train = pd.read_csv('dados_treino_ate_TRIO_'+nome+'.csv')\n",
    "#test = pd.read_csv('dados_teste_ate_TRIO_'+nome+'.csv')"
   ]
  },
  {
   "cell_type": "code",
   "execution_count": 32,
   "metadata": {},
   "outputs": [],
   "source": [
    "# SE SEU PROJETO USA OS DADOS SÓ DUPLA\"\n",
    "train = pd.read_csv('dados_treino_so_DUPLA_danielr.csv')\n",
    "test = pd.read_csv('dados_teste_so_DUPLA_danielr.csv')\n",
    "\n",
    "train_original = train\n",
    "test_original = test"
   ]
  },
  {
   "cell_type": "code",
   "execution_count": 33,
   "metadata": {},
   "outputs": [
    {
     "data": {
      "text/html": [
       "<div>\n",
       "<style scoped>\n",
       "    .dataframe tbody tr th:only-of-type {\n",
       "        vertical-align: middle;\n",
       "    }\n",
       "\n",
       "    .dataframe tbody tr th {\n",
       "        vertical-align: top;\n",
       "    }\n",
       "\n",
       "    .dataframe thead th {\n",
       "        text-align: right;\n",
       "    }\n",
       "</style>\n",
       "<table border=\"1\" class=\"dataframe\">\n",
       "  <thead>\n",
       "    <tr style=\"text-align: right;\">\n",
       "      <th></th>\n",
       "      <th>Text</th>\n",
       "      <th>target</th>\n",
       "    </tr>\n",
       "  </thead>\n",
       "  <tbody>\n",
       "    <tr>\n",
       "      <th>0</th>\n",
       "      <td>Fi-shock works great.  This is number three fo...</td>\n",
       "      <td>1.0</td>\n",
       "    </tr>\n",
       "    <tr>\n",
       "      <th>1</th>\n",
       "      <td>Great stuff delivery is very fast . I mix it w...</td>\n",
       "      <td>1.0</td>\n",
       "    </tr>\n",
       "    <tr>\n",
       "      <th>2</th>\n",
       "      <td>I purchased these for my mom and she loves the...</td>\n",
       "      <td>1.0</td>\n",
       "    </tr>\n",
       "    <tr>\n",
       "      <th>3</th>\n",
       "      <td>I love Eight O'clock coffee but when shopping ...</td>\n",
       "      <td>0.0</td>\n",
       "    </tr>\n",
       "    <tr>\n",
       "      <th>4</th>\n",
       "      <td>These are really good.  You do need to add jus...</td>\n",
       "      <td>1.0</td>\n",
       "    </tr>\n",
       "  </tbody>\n",
       "</table>\n",
       "</div>"
      ],
      "text/plain": [
       "                                                Text  target\n",
       "0  Fi-shock works great.  This is number three fo...     1.0\n",
       "1  Great stuff delivery is very fast . I mix it w...     1.0\n",
       "2  I purchased these for my mom and she loves the...     1.0\n",
       "3  I love Eight O'clock coffee but when shopping ...     0.0\n",
       "4  These are really good.  You do need to add jus...     1.0"
      ]
     },
     "execution_count": 33,
     "metadata": {},
     "output_type": "execute_result"
    }
   ],
   "source": [
    "train.head()"
   ]
  },
  {
   "cell_type": "code",
   "execution_count": 34,
   "metadata": {},
   "outputs": [
    {
     "data": {
      "text/html": [
       "<div>\n",
       "<style scoped>\n",
       "    .dataframe tbody tr th:only-of-type {\n",
       "        vertical-align: middle;\n",
       "    }\n",
       "\n",
       "    .dataframe tbody tr th {\n",
       "        vertical-align: top;\n",
       "    }\n",
       "\n",
       "    .dataframe thead th {\n",
       "        text-align: right;\n",
       "    }\n",
       "</style>\n",
       "<table border=\"1\" class=\"dataframe\">\n",
       "  <thead>\n",
       "    <tr style=\"text-align: right;\">\n",
       "      <th></th>\n",
       "      <th>Text</th>\n",
       "      <th>target</th>\n",
       "    </tr>\n",
       "  </thead>\n",
       "  <tbody>\n",
       "    <tr>\n",
       "      <th>0</th>\n",
       "      <td>I ordered a case of 10 for $[...].00. I love t...</td>\n",
       "      <td>1.0</td>\n",
       "    </tr>\n",
       "    <tr>\n",
       "      <th>1</th>\n",
       "      <td>I bought these based on all the great reviews ...</td>\n",
       "      <td>0.0</td>\n",
       "    </tr>\n",
       "    <tr>\n",
       "      <th>2</th>\n",
       "      <td>This is a fantastic product. I promote this pr...</td>\n",
       "      <td>0.0</td>\n",
       "    </tr>\n",
       "    <tr>\n",
       "      <th>3</th>\n",
       "      <td>A nicely spiced light roast coffee with the ar...</td>\n",
       "      <td>1.0</td>\n",
       "    </tr>\n",
       "    <tr>\n",
       "      <th>4</th>\n",
       "      <td>This really is a DELICIOUS product and if you ...</td>\n",
       "      <td>0.0</td>\n",
       "    </tr>\n",
       "  </tbody>\n",
       "</table>\n",
       "</div>"
      ],
      "text/plain": [
       "                                                Text  target\n",
       "0  I ordered a case of 10 for $[...].00. I love t...     1.0\n",
       "1  I bought these based on all the great reviews ...     0.0\n",
       "2  This is a fantastic product. I promote this pr...     0.0\n",
       "3  A nicely spiced light roast coffee with the ar...     1.0\n",
       "4  This really is a DELICIOUS product and if you ...     0.0"
      ]
     },
     "execution_count": 34,
     "metadata": {},
     "output_type": "execute_result"
    }
   ],
   "source": [
    "test.head()"
   ]
  },
  {
   "cell_type": "markdown",
   "metadata": {},
   "source": [
    "___\n",
    "# Classificador Automático (Boot)\n"
   ]
  },
  {
   "cell_type": "markdown",
   "metadata": {},
   "source": [
    "Faça aqui uma descrição do seu assunto e o contexto referente aos rótulos cujas mensagens (ou reviews) deverão ser classificadas.\n",
    "\n",
    "ESCREVA AQUI..."
   ]
  },
  {
   "cell_type": "markdown",
   "metadata": {},
   "source": [
    "criar uma base de dados filtrando todos os comentarios com target 1 e outra com target 0\n"
   ]
  },
  {
   "cell_type": "markdown",
   "metadata": {},
   "source": [
    "___\n",
    "## Montando SEU Classificador Naive-Bayes\n",
    "\n",
    "Considerando apenas as mensagens da planilha Treinamento, ensine  seu classificador."
   ]
  },
  {
   "cell_type": "code",
   "execution_count": 35,
   "metadata": {},
   "outputs": [],
   "source": [
    "# filtrar por linhas que o valor da coluna target seja igual a 1\n",
    "um = train.loc[train.target == 1,:]\n",
    "zero = train.loc[train.target == 0,:]\n",
    "\n",
    "um =  um.Text\n",
    "zero = zero.Text\n",
    "\n",
    "umstr = ' '.join(um.astype(str).tolist())\n",
    "zerostr = ' '.join(zero.astype(str).tolist())\n",
    "\n",
    "umlimpo = cleanup(umstr.lower())\n",
    "zerolimpo = cleanup(zerostr.lower())\n",
    "\n",
    "umlista = umlimpo.split()\n",
    "zerolista = zerolimpo.split()\n",
    "trainlista = umlista + zerolista\n",
    "\n",
    "umseries = pd.Series(umlista)\n",
    "zeroseries = pd.Series(zerolista)\n",
    "trainseries = pd.Series(trainlista)\n",
    "\n",
    "# contagens absolutas (necessárias para smoothing de Laplace)\n",
    "umcount    = umseries.value_counts()\n",
    "zerocount  = zeroseries.value_counts()\n",
    "traincount = trainseries.value_counts()\n",
    "\n",
    "# parâmetros p/ Laplace\n",
    "alpha = 1.0\n",
    "V = traincount.index.nunique()             # tamanho do vocabulário\n",
    "\n",
    "# totais de tokens por \"classe\" e no geral\n",
    "total_um_tokens    = int(umcount.sum())\n",
    "total_zero_tokens  = int(zerocount.sum())\n",
    "total_train_tokens = int(traincount.sum())\n",
    "\n",
    "# penalidades (probabilidade de OOV) suavizadas por Laplace\n",
    "penalidade_um    = alpha / (total_um_tokens    + alpha * V)\n",
    "penalidade_zero  = alpha / (total_zero_tokens  + alpha * V)\n",
    "penalidade_train = alpha / (total_train_tokens + alpha * V)\n"
   ]
  },
  {
   "cell_type": "code",
   "execution_count": null,
   "metadata": {},
   "outputs": [],
   "source": [
    "lenum = len(um)\n",
    "lenzero = len(zero)\n",
    "\n",
    "probum = lenum/(lenum + lenzero)\n",
    "probzero = lenzero/(lenum + lenzero)\n",
    "\n",
    "penalidade = 0.000005\n",
    "\n",
    "\n",
    "def classcome(come):\n",
    "    come = come.lower()\n",
    "    # comestr = ''.join(come.astype(str).tolist())\n",
    "    comelimpo = cleanup(come)\n",
    "    comelista = comelimpo.split()\n",
    "\n",
    "    probcomedadoum = 1\n",
    "    probcomedadozero = 1\n",
    "    \n",
    "    probcome = 1\n",
    "\n",
    "    for palavra in comelista:\n",
    "        # P(palavra | classe=1) com Laplace\n",
    "        c_um = umcount.get(palavra, 0)\n",
    "        p_um = (c_um + alpha) / (total_um_tokens + alpha * V)\n",
    "        probcomedadoum *= p_um\n",
    "\n",
    "        # P(palavra | classe=0) com Laplace\n",
    "        c_zero = zerocount.get(palavra, 0)\n",
    "        p_zero = (c_zero + alpha) / (total_zero_tokens + alpha * V)\n",
    "        probcomedadozero *= p_zero\n",
    "\n",
    "        # P(palavra) no corpus todo (para manter sua razão com \"probcome\")\n",
    "        c_train = traincount.get(palavra, 0)\n",
    "        p_train = (c_train + alpha) / (total_train_tokens + alpha * V)\n",
    "        probcome *= p_train\n",
    "\n",
    "        # mantém seus fatores (não são necessários em log, mas você pediu sem mudar a lógica)\n",
    "        probcomedadoum   = probcomedadoum * 1000\n",
    "        probcomedadozero = probcomedadozero * 1000\n",
    "        probcome         = probcome * 1000\n",
    "\n",
    "        # print(probcomedadoum)\n",
    "        # print(probcomedadozero)\n",
    "        # print(probcome)\n",
    "    \n",
    "    # print(probcomedadoum)\n",
    "    # print(probcomedadozero)\n",
    "    # print(probcome)\n",
    "\n",
    "    if probcome == 0:\n",
    "       probcome = 1e-10\n",
    "\n",
    "    probumdadocome = probcomedadoum * probum / probcome\n",
    "    probzerodadocome= probcomedadozero * probzero / probcome\n",
    "\n",
    "    # print(probumdadocome)\n",
    "    # print(probzerodadocome)\n",
    "        \n",
    "    if probumdadocome > probzerodadocome:\n",
    "        return 1\n",
    "    else:\n",
    "        return 0"
   ]
  },
  {
   "cell_type": "markdown",
   "metadata": {},
   "source": [
    "___\n",
    "## Verificando a performance do Classificador\n",
    "\n",
    "Agora você deve testar o seu classificador com a base de Testes."
   ]
  },
  {
   "cell_type": "code",
   "execution_count": 44,
   "metadata": {},
   "outputs": [
    {
     "name": "stdout",
     "output_type": "stream",
     "text": [
      "Acuracia: 89.64% (1506/1680)\n",
      "Verdadeiro Positivo (TP): 45.12%  (758)\n",
      "Verdadeiro Negativo (TN): 44.52%  (748)\n",
      "Falso  Positivo  (FP): 6.43%  (108)\n",
      "Falso  Negativo  (FN): 3.93%  (66)\n"
     ]
    }
   ],
   "source": [
    "avaliado = train\n",
    "\n",
    "TP = TN = FP = FN = 0\n",
    "total = len(avaliado)\n",
    "\n",
    "for i in range(total):\n",
    "    pred = classcome(avaliado.iloc[i, 0])     # coluna Text\n",
    "    real = int(avaliado.iloc[i, 1])           # coluna target (0/1)\n",
    "\n",
    "    if pred == 1 and real == 1:\n",
    "        TP += 1\n",
    "    elif pred == 0 and real == 0:\n",
    "        TN += 1\n",
    "    elif pred == 1 and real == 0:\n",
    "        FP += 1\n",
    "    elif pred == 0 and real == 1:\n",
    "        FN += 1\n",
    "\n",
    "acertos = TP + TN\n",
    "acuracia = acertos / total if total else 0.0\n",
    "\n",
    "# porcentagens sobre o total\n",
    "pct_TP = (TP / total) * 100 if total else 0.0\n",
    "pct_TN = (TN / total) * 100 if total else 0.0\n",
    "pct_FP = (FP / total) * 100 if total else 0.0\n",
    "pct_FN = (FN / total) * 100 if total else 0.0\n",
    "\n",
    "print(f\"Acuracia: {acuracia:.2%} ({acertos}/{total})\")\n",
    "print(f\"Verdadeiro Positivo (TP): {pct_TP:.2f}%  ({TP})\")\n",
    "print(f\"Verdadeiro Negativo (TN): {pct_TN:.2f}%  ({TN})\")\n",
    "print(f\"Falso  Positivo  (FP): {pct_FP:.2f}%  ({FP})\")\n",
    "print(f\"Falso  Negativo  (FN): {pct_FN:.2f}%  ({FN})\")"
   ]
  },
  {
   "cell_type": "code",
   "execution_count": 45,
   "metadata": {},
   "outputs": [
    {
     "name": "stdout",
     "output_type": "stream",
     "text": [
      "Acuracia: 91.67% (660/720)\n",
      "Verdadeiro Positivo (TP): 48.33%  (348)\n",
      "Verdadeiro Negativo (TN): 43.33%  (312)\n",
      "Falso  Positivo  (FP): 4.44%  (32)\n",
      "Falso  Negativo  (FN): 3.89%  (28)\n"
     ]
    }
   ],
   "source": [
    "avaliado = test\n",
    "\n",
    "TP = TN = FP = FN = 0\n",
    "total = len(avaliado)\n",
    "\n",
    "for i in range(total):\n",
    "    pred = classcome(avaliado.iloc[i, 0])     # coluna Text\n",
    "    real = int(avaliado.iloc[i, 1])           # coluna target (0/1)\n",
    "\n",
    "    if pred == 1 and real == 1:\n",
    "        TP += 1\n",
    "    elif pred == 0 and real == 0:\n",
    "        TN += 1\n",
    "    elif pred == 1 and real == 0:\n",
    "        FP += 1\n",
    "    elif pred == 0 and real == 1:\n",
    "        FN += 1\n",
    "\n",
    "acertos = TP + TN\n",
    "acuracia = acertos / total if total else 0.0\n",
    "\n",
    "# porcentagens sobre o total\n",
    "pct_TP = (TP / total) * 100 if total else 0.0\n",
    "pct_TN = (TN / total) * 100 if total else 0.0\n",
    "pct_FP = (FP / total) * 100 if total else 0.0\n",
    "pct_FN = (FN / total) * 100 if total else 0.0\n",
    "\n",
    "print(f\"Acuracia: {acuracia:.2%} ({acertos}/{total})\")\n",
    "print(f\"Verdadeiro Positivo (TP): {pct_TP:.2f}%  ({TP})\")\n",
    "print(f\"Verdadeiro Negativo (TN): {pct_TN:.2f}%  ({TN})\")\n",
    "print(f\"Falso  Positivo  (FP): {pct_FP:.2f}%  ({FP})\")\n",
    "print(f\"Falso  Negativo  (FN): {pct_FN:.2f}%  ({FN})\")"
   ]
  },
  {
   "cell_type": "markdown",
   "metadata": {},
   "source": [
    "___\n",
    "## Análise Qualitativa da Performance do Classificador"
   ]
  },
  {
   "cell_type": "markdown",
   "metadata": {},
   "source": [
    "Analisando a acuracia obtida no treino de 93.75% e no teste de 72.92%, é possivel afirmar que embora ele não sejaabsurdamente preciso, a sua precisão é bem alta para o tipo de analise que é buscado, pois os criterios não são totalmenteobjetivos, com comentarios podendo variar dependendo do que o usuario pensa além de que existe a possibilidade de erros humanosna hora de realizar uma avaliação "
   ]
  },
  {
   "cell_type": "markdown",
   "metadata": {},
   "source": [
    "### Análise Crítica da Performance do Classificador\n",
    "\n",
    "Nosso classificador Naive-Bayes obteve uma acurácia razoável, o que mostra que ele consegue identificar padrões nas palavras usadas nas avaliações. No entanto, só a acurácia não é suficiente para avaliar totalmente a qualidade de um modelo de classificação.\n",
    "\n",
    "- **Precisão (precision):** indica a proporção de avaliações que o modelo classificou como positivas e que realmente eram positivas. É importante em situações onde falsos positivos são mais graves.  \n",
    "- **Recall (sensibilidade):** indica a proporção de avaliações positivas que o modelo conseguiu identificar. É importante em contextos onde é mais grave perder um caso positivo do que ter um falso positivo.  \n",
    "- **Acurácia:** mostra a taxa geral de acertos, considerando todas as classes.\n",
    "\n",
    "No nosso projeto, como trabalhamos com opiniões de produtos, a acurácia global já nos dá uma boa visão da performance. Porém, em aplicações mais críticas (como diagnósticos médicos ou detecção de fraudes), seria essencial analisar também precisão e recall para não tomar decisões erradas.\n",
    "\n",
    "Além disso, notamos que o modelo tende a confundir avaliações intermediárias (nota 3), já que elas compartilham palavras típicas de avaliações boas e ruins. Isso é esperado, pois o Naive-Bayes trabalha apenas com frequências de palavras e não entende o contexto mais profundo do texto.\n"
   ]
  },
  {
   "cell_type": "markdown",
   "metadata": {},
   "source": [
    "### Limitações: Sarcasmo e Dupla Negação\n",
    "\n",
    "Nosso classificador trabalha apenas com a frequência das palavras, sem interpretar o contexto.  \n",
    "Por isso:\n",
    "\n",
    "- **Dupla Negação**: frases como *\"Não acho que ele não esteja errado\"* podem confundir o modelo, pois ele só vê as palavras \"não\" e \"errado\", sem entender a lógica.  \n",
    "- **Sarcasmo**: comentários como *\"Que ótimo, meu pedido chegou atrasado de novo!\"* tendem a ser classificados como positivos, já que a palavra \"ótimo\" tem peso forte no modelo.  \n",
    "\n",
    "Essas limitações são típicas de modelos baseados em palavras isoladas e só poderiam ser reduzidas com técnicas mais avançadas de processamento de linguagem natural."
   ]
  },
  {
   "cell_type": "markdown",
   "metadata": {},
   "source": [
    "### Proposta de Expansão\n",
    "\n",
    "O projeto pode ser expandido de forma simples para capturar automaticamente novas avaliações da Amazon e classificá-las em tempo real.  \n",
    "Isso traria benefícios para empresas, que poderiam monitorar rapidamente a percepção dos consumidores.  \n",
    "Além disso, podemos pensar em outros **cenários de aplicação** do Naive-Bayes:\n",
    "\n",
    "1. **Filtro de Spam**: classificar e-mails entre \"spam\" e \"não spam\".  \n",
    "2. **Detecção de Fake News**: separar textos de notícias falsas e verdadeiras.  \n",
    "3. **Análise de Sentimento Político**: identificar se postagens em redes sociais são favoráveis ou contrárias a determinado tema.\n"
   ]
  },
  {
   "cell_type": "markdown",
   "metadata": {},
   "source": [
    "### Melhorias Possíveis no Classificador\n",
    "\n",
    "Algumas melhorias simples poderiam aumentar a qualidade do modelo:\n",
    "\n",
    "- **Remoção de stopwords**: palavras muito comuns (como \"de\", \"em\", \"a\") não ajudam na classificação.  \n",
    "- **Stemming ou Lemmatization**: reduzir palavras para sua raiz (ex: \"comprando\", \"comprar\" → \"compr\").  \n",
    "- **Uso de bigramas**: considerar pares de palavras consecutivas, o que ajuda a capturar contextos (ex: \"muito bom\", \"muito ruim\").  \n"
   ]
  },
  {
   "cell_type": "markdown",
   "metadata": {},
   "source": [
    "___\n",
    "## Qualidade do Classificador a partir de novas separações das mensagens entre Treinamento e Teste\n",
    "\n",
    "Caso for fazer esse item do Projeto"
   ]
  },
  {
   "cell_type": "code",
   "execution_count": 56,
   "metadata": {},
   "outputs": [
    {
     "data": {
      "image/png": "[encoded data removed]",
      "text/plain": [
       "<Figure size 640x480 with 1 Axes>"
      ]
     },
     "metadata": {},
     "output_type": "display_data"
    },
    {
     "name": "stdout",
     "output_type": "stream",
     "text": [
      "Alpha=0.01 | Média=0.684 | Desvio Padrão=0.019\n",
      "Alpha=0.56 | Média=0.737 | Desvio Padrão=0.026\n",
      "Alpha=1.12 | Média=0.743 | Desvio Padrão=0.024\n",
      "Alpha=1.67 | Média=0.745 | Desvio Padrão=0.025\n",
      "Alpha=2.23 | Média=0.745 | Desvio Padrão=0.029\n",
      "Alpha=2.78 | Média=0.741 | Desvio Padrão=0.031\n",
      "Alpha=3.34 | Média=0.731 | Desvio Padrão=0.033\n",
      "Alpha=3.89 | Média=0.722 | Desvio Padrão=0.031\n",
      "Alpha=4.45 | Média=0.705 | Desvio Padrão=0.031\n",
      "Alpha=5.00 | Média=0.693 | Desvio Padrão=0.035\n"
     ]
    }
   ],
   "source": [
    "from sklearn.model_selection import StratifiedKFold\n",
    "import matplotlib.pyplot as plt\n",
    "import numpy as np\n",
    "\n",
    "# Junta treino e teste em um único DataFrame\n",
    "df_total = pd.concat([train_original, test_original])\n",
    "\n",
    "X = df_total[\"Text\"]\n",
    "y = df_total[\"target\"]\n",
    "\n",
    "kf = StratifiedKFold(n_splits=10, shuffle=True, random_state=42)\n",
    "\n",
    "# 10 valores diferentes de alpha\n",
    "alphas = np.linspace(0.01, 5.0, 10)\n",
    "\n",
    "resultados = {}\n",
    "\n",
    "for alpha in alphas:\n",
    "    acuracias = []\n",
    "\n",
    "    for train_index, test_index in kf.split(X, y):\n",
    "        # Criar novos conjuntos de treino e teste\n",
    "        X_train, X_test = X.iloc[train_index], X.iloc[test_index]\n",
    "        y_train, y_test = y.iloc[train_index], y.iloc[test_index]\n",
    "\n",
    "        # ======= Treinamento (mesmo código que você já usa) =======\n",
    "        treino_df = pd.DataFrame({\"Text\": X_train, \"target\": y_train})\n",
    "\n",
    "        um = treino_df.loc[treino_df.target == 1, \"Text\"]\n",
    "        zero = treino_df.loc[treino_df.target == 0, \"Text\"]\n",
    "\n",
    "        umstr = ' '.join(um.astype(str).tolist())\n",
    "        zerostr = ' '.join(zero.astype(str).tolist())\n",
    "\n",
    "        umlimpo = cleanup(umstr.lower())\n",
    "        zerolimpo = cleanup(zerostr.lower())\n",
    "\n",
    "        umlista = umlimpo.split()\n",
    "        zerolista = zerolimpo.split()\n",
    "        trainlista = umlista + zerolista\n",
    "\n",
    "        umseries = pd.Series(umlista)\n",
    "        zeroseries = pd.Series(zerolista)\n",
    "        trainseries = pd.Series(trainlista)\n",
    "\n",
    "        # contagens absolutas\n",
    "        umcount = umseries.value_counts()\n",
    "        zerocount = zeroseries.value_counts()\n",
    "        traincount = trainseries.value_counts()\n",
    "\n",
    "        # parâmetros para Laplace\n",
    "        V = traincount.index.nunique()\n",
    "        total_um_tokens = int(umcount.sum())\n",
    "        total_zero_tokens = int(zerocount.sum())\n",
    "        total_train_tokens = int(traincount.sum())\n",
    "\n",
    "        penalidade_um = alpha / (total_um_tokens + alpha * V)\n",
    "        penalidade_zero = alpha / (total_zero_tokens + alpha * V)\n",
    "        penalidade_train = alpha / (total_train_tokens + alpha * V)\n",
    "\n",
    "        lenum = len(um)\n",
    "        lenzero = len(zero)\n",
    "\n",
    "        probum = lenum / (lenum + lenzero)\n",
    "        probzero = lenzero / (lenum + lenzero)\n",
    "\n",
    "        penalidade = 0.000005\n",
    "\n",
    "        # ======= Teste (usa sua função classcome) =======\n",
    "        y_pred = [classcome(texto) for texto in X_test]\n",
    "        acuracia = np.mean(y_pred == y_test)\n",
    "        acuracias.append(acuracia)\n",
    "\n",
    "    resultados[alpha] = (np.mean(acuracias), np.std(acuracias))\n",
    "\n",
    "# ======= Gráfico comparativo =======\n",
    "medias = [v[0] for v in resultados.values()]\n",
    "desvios = [v[1] for v in resultados.values()]\n",
    "\n",
    "plt.errorbar(alphas, medias, yerr=desvios, fmt='-o', capsize=5)\n",
    "plt.xlabel(\"Alpha (suavização de Laplace)\")\n",
    "plt.ylabel(\"Acurácia média (± desvio padrão)\")\n",
    "plt.title(\"Comparação da acurácia para diferentes valores de alpha\")\n",
    "plt.grid(True)\n",
    "plt.show()\n",
    "\n",
    "# Print resumo\n",
    "for alpha, (media, desvio) in resultados.items():\n",
    "    print(f\"Alpha={alpha:.2f} | Média={media:.3f} | Desvio Padrão={desvio:.3f}\")\n"
   ]
  },
  {
   "cell_type": "markdown",
   "metadata": {},
   "source": [
    "### Resultados da Validação Cruzada\n",
    "\n",
    "Ao realizar a validação cruzada com 10 divisões, observamos que a acurácia varia entre os grupos,  \n",
    "mostrando que a escolha da base de treino e teste influencia o resultado.  \n",
    "Isso reforça a ideia de que avaliar o modelo apenas com uma divisão pode ser enganoso.  \n",
    "A validação cruzada dá uma visão mais estável da performance real do classificador.\n"
   ]
  },
  {
   "cell_type": "markdown",
   "metadata": {},
   "source": [
    "___\n",
    "## Aperfeiçoamento:\n",
    "\n",
    "Leia atentamente a rubrica colocada no enunciado do Projeto 1 (última página). <br>\n",
    "Trabalhos que conseguirem pelo menos conceito B vão evoluir em conceito dependendo da quantidade de itens avançados:\n",
    "\n",
    "* IMPLEMENTOU outras limpezas e transformações que não afetem a qualidade da informação contida nas mensagens, mas tendem a melhorar na classificação das mensagens. Ex: stemming, lemmatization, stopwords.\n",
    "* CONSIDEROU arquivo com três categorias na classificação das variáveis (OBRIGATÓRIO PARA QUARTETOS, sem contar como item avançado)\n",
    "* CONSTRUIU o cálculo das probabilidades corretamente utilizando bigramas E apresentou referência sobre o método utilizado.\n",
    "* EXPLICOU porquê não pode usar novas mensagens classificadas pelo próprio classificador como amostra de treinamento\n",
    "* PROPÔS diferentes cenários para Naïve Bayes fora do contexto do projeto (pelo menos dois cenários diferentes, exceto aqueles já apresentados em sala pelos professores: por exemplo, filtro de spam)\n",
    "* REFLETE criticamente sobre os resultados obtidos, identificando limitações do modelo e sugerindo possíveis melhorias ou diferentes abordagens com indicações concretas de como implementar (indicar como fazer e indicar material de pesquisa).\n",
    "* DOCUMENTOU bem o código, com explicações claras para cada etapa do processo, incluindo o raciocínio por trás das decisões de modelagem e das transformações de dados.\n"
   ]
  },
  {
   "cell_type": "markdown",
   "metadata": {},
   "source": [
    "___\n",
    "## Referências"
   ]
  },
  {
   "cell_type": "markdown",
   "metadata": {},
   "source": [
    "[Naive Bayes and Text Classification](https://arxiv.org/pdf/1410.5329.pdf)  **Mais completo**\n",
    "\n",
    "[Natural Language Processing (Part 17)-Laplacian Smoothing](https://medium.com/@Coursesteach/natural-language-processing-part-17-laplacian-smoothing-7d4be71d0ded) **Mais simples**"
   ]
  },
  {
   "cell_type": "code",
   "execution_count": null,
   "metadata": {},
   "outputs": [],
   "source": []
  }
 ],
 "metadata": {
  "kernelspec": {
   "display_name": "base",
   "language": "python",
   "name": "python3"
  },
  "language_info": {
   "codemirror_mode": {
    "name": "ipython",
    "version": 3
   },
   "file_extension": ".py",
   "mimetype": "text/x-python",
   "name": "python",
   "nbconvert_exporter": "python",
   "pygments_lexer": "ipython3",
   "version": "3.12.7"
  }
 },
 "nbformat": 4,
 "nbformat_minor": 4
}
